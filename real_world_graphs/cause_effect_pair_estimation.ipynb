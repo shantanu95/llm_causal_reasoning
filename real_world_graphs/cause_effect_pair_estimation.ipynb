{
 "cells": [
  {
   "cell_type": "code",
   "execution_count": 1,
   "metadata": {},
   "outputs": [],
   "source": [
    "from real_world_graphs.llms import OpenAILLM, OpenAIConfig\n",
    "from real_world_graphs.cause_net_tasks import CausalChainEstimationTask\n",
    "import os\n",
    "import json"
   ]
  },
  {
   "cell_type": "code",
   "execution_count": 2,
   "metadata": {},
   "outputs": [],
   "source": [
    "NARRATIVE_DIR = \"path/to/narrative_directory\"\n",
    "NARRATIVE_PATHS = [os.path.join(NARRATIVE_DIR, fn) for fn in os.listdir(NARRATIVE_DIR)]"
   ]
  },
  {
   "cell_type": "code",
   "execution_count": 5,
   "metadata": {},
   "outputs": [],
   "source": [
    "llm = OpenAILLM(config=OpenAIConfig(max_tokens=100))\n",
    "llm.config.model_name = \"gpt-4o\"\n",
    "llm.config.max_workers = 4"
   ]
  },
  {
   "cell_type": "code",
   "execution_count": 6,
   "metadata": {},
   "outputs": [],
   "source": [
    "def get_max_narrative_len(narrative_path: str) -> int:\n",
    "    max_len = 0\n",
    "    with open(narrative_path, \"r\") as file:\n",
    "        for line in file:\n",
    "            narrative_data = json.loads(line)\n",
    "            max_len = max(max_len, len(narrative_data[\"nodes\"]))\n",
    "    return max_len"
   ]
  },
  {
   "cell_type": "code",
   "execution_count": 7,
   "metadata": {},
   "outputs": [],
   "source": [
    "tasks = [\n",
    "    CausalChainEstimationTask(\n",
    "        graph_path=None,\n",
    "        llm=llm,\n",
    "        narrative_path=path,\n",
    "        min_chain_length=get_max_narrative_len(path),\n",
    "    )\n",
    "    for path in NARRATIVE_PATHS\n",
    "]"
   ]
  },
  {
   "cell_type": "code",
   "execution_count": 1,
   "metadata": {},
   "outputs": [],
   "source": [
    "prompt_list = []\n",
    "for task in tasks:\n",
    "    prompt_list += task.generate_prompt_data(show_progress=False)"
   ]
  },
  {
   "cell_type": "code",
   "execution_count": 2,
   "metadata": {},
   "outputs": [],
   "source": [
    "responses = task.prompts_to_response(\n",
    "    prompt_data=prompt_list,\n",
    "    show_progress=True,\n",
    "    # change to `True` to use CoT prompting.\n",
    "    with_cot=False,\n",
    ")"
   ]
  }
 ],
 "metadata": {
  "kernelspec": {
   "display_name": "Python 3 (ipykernel)",
   "language": "python",
   "name": "python3"
  },
  "language_info": {
   "codemirror_mode": {
    "name": "ipython",
    "version": 3
   },
   "file_extension": ".py",
   "mimetype": "text/x-python",
   "name": "python",
   "nbconvert_exporter": "python",
   "pygments_lexer": "ipython3",
   "version": "3.10.12"
  }
 },
 "nbformat": 4,
 "nbformat_minor": 2
}
